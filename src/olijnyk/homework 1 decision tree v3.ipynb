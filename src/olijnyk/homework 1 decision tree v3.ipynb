{
 "cells": [
  {
   "cell_type": "markdown",
   "metadata": {},
   "source": [
    "CSI6160 Homework 1 Decision Tree Implementation\n",
    "\n",
    "John Olijnyk & John Machado\n",
    "\n",
    "1/31/2022\n",
    "\n",
    "We will implment the ID3 algorithm used for decision trees and demonstrate how Entropy and Information Gain are used to construct the decision tree.\n",
    "\n",
    "References:\n",
    "\n",
    "-  https://www.youtube.com/watch?v=coOTEc-0OGw\n",
    "\n",
    "-  https://towardsdatascience.com/entropy-how-decision-trees-make-decisions-2946b9c18c8\n",
    "\n",
    "-  https://medium.com/geekculture/step-by-step-decision-tree-id3-algorithm-from-scratch-in-python-no-fancy-library-4822bbfdd88f"
   ]
  },
  {
   "cell_type": "code",
   "execution_count": 6,
   "metadata": {},
   "outputs": [],
   "source": [
    "import pandas as pd #for manipulating the csv data\n",
    "import numpy as np #for mathematical calculation"
   ]
  },
  {
   "cell_type": "code",
   "execution_count": 7,
   "metadata": {},
   "outputs": [
    {
     "data": {
      "text/html": [
       "<div>\n",
       "<style scoped>\n",
       "    .dataframe tbody tr th:only-of-type {\n",
       "        vertical-align: middle;\n",
       "    }\n",
       "\n",
       "    .dataframe tbody tr th {\n",
       "        vertical-align: top;\n",
       "    }\n",
       "\n",
       "    .dataframe thead th {\n",
       "        text-align: right;\n",
       "    }\n",
       "</style>\n",
       "<table border=\"1\" class=\"dataframe\">\n",
       "  <thead>\n",
       "    <tr style=\"text-align: right;\">\n",
       "      <th></th>\n",
       "      <th>Outlook</th>\n",
       "      <th>Temperature</th>\n",
       "      <th>Humidity</th>\n",
       "      <th>Wind</th>\n",
       "      <th>Play Tennis</th>\n",
       "    </tr>\n",
       "  </thead>\n",
       "  <tbody>\n",
       "    <tr>\n",
       "      <th>0</th>\n",
       "      <td>Sunny</td>\n",
       "      <td>Hot</td>\n",
       "      <td>High</td>\n",
       "      <td>Weak</td>\n",
       "      <td>No</td>\n",
       "    </tr>\n",
       "    <tr>\n",
       "      <th>1</th>\n",
       "      <td>Sunny</td>\n",
       "      <td>Hot</td>\n",
       "      <td>High</td>\n",
       "      <td>Strong</td>\n",
       "      <td>No</td>\n",
       "    </tr>\n",
       "    <tr>\n",
       "      <th>2</th>\n",
       "      <td>Overcast</td>\n",
       "      <td>Hot</td>\n",
       "      <td>High</td>\n",
       "      <td>Weak</td>\n",
       "      <td>Yes</td>\n",
       "    </tr>\n",
       "    <tr>\n",
       "      <th>3</th>\n",
       "      <td>Rain</td>\n",
       "      <td>Mild</td>\n",
       "      <td>High</td>\n",
       "      <td>Weak</td>\n",
       "      <td>Yes</td>\n",
       "    </tr>\n",
       "    <tr>\n",
       "      <th>4</th>\n",
       "      <td>Rain</td>\n",
       "      <td>Cool</td>\n",
       "      <td>Normal</td>\n",
       "      <td>Weak</td>\n",
       "      <td>Yes</td>\n",
       "    </tr>\n",
       "    <tr>\n",
       "      <th>5</th>\n",
       "      <td>Rain</td>\n",
       "      <td>Cool</td>\n",
       "      <td>Normal</td>\n",
       "      <td>Strong</td>\n",
       "      <td>No</td>\n",
       "    </tr>\n",
       "    <tr>\n",
       "      <th>6</th>\n",
       "      <td>Overcast</td>\n",
       "      <td>Cool</td>\n",
       "      <td>Normal</td>\n",
       "      <td>Strong</td>\n",
       "      <td>Yes</td>\n",
       "    </tr>\n",
       "    <tr>\n",
       "      <th>7</th>\n",
       "      <td>Sunny</td>\n",
       "      <td>Mild</td>\n",
       "      <td>High</td>\n",
       "      <td>Weak</td>\n",
       "      <td>No</td>\n",
       "    </tr>\n",
       "    <tr>\n",
       "      <th>8</th>\n",
       "      <td>Sunny</td>\n",
       "      <td>Cool</td>\n",
       "      <td>Normal</td>\n",
       "      <td>Weak</td>\n",
       "      <td>Yes</td>\n",
       "    </tr>\n",
       "    <tr>\n",
       "      <th>9</th>\n",
       "      <td>Rain</td>\n",
       "      <td>Mild</td>\n",
       "      <td>Normal</td>\n",
       "      <td>Weak</td>\n",
       "      <td>Yes</td>\n",
       "    </tr>\n",
       "    <tr>\n",
       "      <th>10</th>\n",
       "      <td>Sunny</td>\n",
       "      <td>Mild</td>\n",
       "      <td>Normal</td>\n",
       "      <td>Strong</td>\n",
       "      <td>Yes</td>\n",
       "    </tr>\n",
       "    <tr>\n",
       "      <th>11</th>\n",
       "      <td>Overcast</td>\n",
       "      <td>Mild</td>\n",
       "      <td>High</td>\n",
       "      <td>Strong</td>\n",
       "      <td>Yes</td>\n",
       "    </tr>\n",
       "    <tr>\n",
       "      <th>12</th>\n",
       "      <td>Overcast</td>\n",
       "      <td>Hot</td>\n",
       "      <td>Normal</td>\n",
       "      <td>Weak</td>\n",
       "      <td>Yes</td>\n",
       "    </tr>\n",
       "    <tr>\n",
       "      <th>13</th>\n",
       "      <td>Rain</td>\n",
       "      <td>Mild</td>\n",
       "      <td>High</td>\n",
       "      <td>Strong</td>\n",
       "      <td>No</td>\n",
       "    </tr>\n",
       "  </tbody>\n",
       "</table>\n",
       "</div>"
      ],
      "text/plain": [
       "     Outlook Temperature Humidity    Wind Play Tennis\n",
       "0      Sunny         Hot     High    Weak          No\n",
       "1      Sunny         Hot     High  Strong          No\n",
       "2   Overcast         Hot     High    Weak         Yes\n",
       "3       Rain        Mild     High    Weak         Yes\n",
       "4       Rain        Cool   Normal    Weak         Yes\n",
       "5       Rain        Cool   Normal  Strong          No\n",
       "6   Overcast        Cool   Normal  Strong         Yes\n",
       "7      Sunny        Mild     High    Weak          No\n",
       "8      Sunny        Cool   Normal    Weak         Yes\n",
       "9       Rain        Mild   Normal    Weak         Yes\n",
       "10     Sunny        Mild   Normal  Strong         Yes\n",
       "11  Overcast        Mild     High  Strong         Yes\n",
       "12  Overcast         Hot   Normal    Weak         Yes\n",
       "13      Rain        Mild     High  Strong          No"
      ]
     },
     "execution_count": 7,
     "metadata": {},
     "output_type": "execute_result"
    }
   ],
   "source": [
    "# PlayTennis.csv is the data set from our lecture and also found on Kaggle used as an example for decision tree implementation\n",
    "# We will open the data set CSV file and examine its elements\n",
    "# We see we have 14 entries\n",
    "\n",
    "train_data_set = pd.read_csv(\"TrainPlayTennis.csv\")\n",
    "train_data_set"
   ]
  },
  {
   "cell_type": "code",
   "execution_count": 8,
   "metadata": {},
   "outputs": [],
   "source": [
    "#first we need to calculate the entropy \n",
    "\n",
    "def calc_total_entropy(df, label, class_list):\n",
    "\n",
    "    \"\"\"\n",
    "        E(S) = Sum (-pi * lg(pi)) where i is each class\n",
    "\n",
    "        Parameters:\n",
    "            df (DataFrame): a pandas dataframe/dataset\n",
    "            label (string): name of the label / ouput column of the dataframe to be used for supervised learning\n",
    "            class_list (list): unique classes of the label / output column \n",
    "\n",
    "        Returns:\n",
    "            (float): calculated entropy of the whole dataframe\n",
    "    \"\"\"\n",
    "\n",
    "    total_row = df.shape[0] #the total size of the dataset\n",
    "    total_entropy = 0 #initialize entropy to zero for summantion\n",
    "    \n",
    "    for c in class_list: #for each class in the label output\n",
    "        total_class_count = df[df[label] == c].shape[0] #number of times we see this class in data set\n",
    "        total_class_entropy =- (total_class_count/total_row)*np.log2(total_class_count/total_row) #entropy of the class\n",
    "        total_entropy += total_class_entropy #adding the class entropy to the total entropy of the dataset\n",
    "    \n",
    "    return total_entropy"
   ]
  },
  {
   "cell_type": "code",
   "execution_count": 9,
   "metadata": {},
   "outputs": [],
   "source": [
    "#now lets calculate the total entropy of the data set\n",
    "\n",
    "label_string='Play Tennis' #name of pandas label i.e. output column for the supervised learning\n",
    "label_class_list = ['Yes', 'No'] #set of possible values of the label as seen from the data set above\n",
    "\n",
    "total_entropy = calc_total_entropy(train_data_set, label_string, label_class_list )\n",
    "\n",
    "#we see this value matches the value that is calculated by hand"
   ]
  },
  {
   "cell_type": "code",
   "execution_count": 10,
   "metadata": {},
   "outputs": [],
   "source": [
    "# next we need to calculate the entropy for each feature with its corresponding values\n",
    "# therefore we will only examine each subset of values of a given feature as it relates to the output lablel\n",
    "# need to calcuilate the total entropy for the feature i.e. E(S)\n",
    "# need to calculate the entropy of each class of a feature.  ex:  E(Outlook=Sunny), E(Outlook=Rainy), E(Outlook=Outlook)\n",
    "    \n",
    "def calc_entropy(df, label, class_list):\n",
    "\n",
    "    \"\"\"\n",
    "        calculates entropy for each feature in a dataset\n",
    "\n",
    "        Parameters:\n",
    "            df (DataFrame): a pandas dataframe/dataset, which contains rows that has a specific value of a feature (Ex. Rows with only Outlook = Sunny)\n",
    "            label (string): name of the label of the dataframe\n",
    "            class_list (list): unique classes of the label\n",
    "\n",
    "        Returns:\n",
    "            (float): calculated entropy of the feature value of the dataframe \n",
    "    \"\"\"\n",
    "\n",
    "    class_count = df.shape[0] #the number of classes in the df\n",
    "    entropy = 0 #set entropy to zero for summation\n",
    "    \n",
    "    for c in class_list:  #for each class in the label output\n",
    "        label_class_count = df[df[label] == c].shape[0] #row count of class c in data set\n",
    "        entropy_class = 0  #set the entropy class count for summation\n",
    "        if label_class_count != 0:  #handle the case of zero labels for that feature class to avoid divide by zero\n",
    "            probability_class = label_class_count/class_count #probability of the class\n",
    "            entropy_class = - probability_class * np.log2(probability_class)  #entropy\n",
    "        entropy += entropy_class\n",
    "    return entropy"
   ]
  },
  {
   "cell_type": "code",
   "execution_count": 11,
   "metadata": {},
   "outputs": [
    {
     "data": {
      "text/html": [
       "<div>\n",
       "<style scoped>\n",
       "    .dataframe tbody tr th:only-of-type {\n",
       "        vertical-align: middle;\n",
       "    }\n",
       "\n",
       "    .dataframe tbody tr th {\n",
       "        vertical-align: top;\n",
       "    }\n",
       "\n",
       "    .dataframe thead th {\n",
       "        text-align: right;\n",
       "    }\n",
       "</style>\n",
       "<table border=\"1\" class=\"dataframe\">\n",
       "  <thead>\n",
       "    <tr style=\"text-align: right;\">\n",
       "      <th></th>\n",
       "      <th>Outlook</th>\n",
       "      <th>Temperature</th>\n",
       "      <th>Humidity</th>\n",
       "      <th>Wind</th>\n",
       "      <th>Play Tennis</th>\n",
       "    </tr>\n",
       "  </thead>\n",
       "  <tbody>\n",
       "    <tr>\n",
       "      <th>0</th>\n",
       "      <td>Sunny</td>\n",
       "      <td>Hot</td>\n",
       "      <td>High</td>\n",
       "      <td>Weak</td>\n",
       "      <td>No</td>\n",
       "    </tr>\n",
       "    <tr>\n",
       "      <th>1</th>\n",
       "      <td>Sunny</td>\n",
       "      <td>Hot</td>\n",
       "      <td>High</td>\n",
       "      <td>Strong</td>\n",
       "      <td>No</td>\n",
       "    </tr>\n",
       "    <tr>\n",
       "      <th>7</th>\n",
       "      <td>Sunny</td>\n",
       "      <td>Mild</td>\n",
       "      <td>High</td>\n",
       "      <td>Weak</td>\n",
       "      <td>No</td>\n",
       "    </tr>\n",
       "    <tr>\n",
       "      <th>8</th>\n",
       "      <td>Sunny</td>\n",
       "      <td>Cool</td>\n",
       "      <td>Normal</td>\n",
       "      <td>Weak</td>\n",
       "      <td>Yes</td>\n",
       "    </tr>\n",
       "    <tr>\n",
       "      <th>10</th>\n",
       "      <td>Sunny</td>\n",
       "      <td>Mild</td>\n",
       "      <td>Normal</td>\n",
       "      <td>Strong</td>\n",
       "      <td>Yes</td>\n",
       "    </tr>\n",
       "  </tbody>\n",
       "</table>\n",
       "</div>"
      ],
      "text/plain": [
       "   Outlook Temperature Humidity    Wind Play Tennis\n",
       "0    Sunny         Hot     High    Weak          No\n",
       "1    Sunny         Hot     High  Strong          No\n",
       "7    Sunny        Mild     High    Weak          No\n",
       "8    Sunny        Cool   Normal    Weak         Yes\n",
       "10   Sunny        Mild   Normal  Strong         Yes"
      ]
     },
     "execution_count": 11,
     "metadata": {},
     "output_type": "execute_result"
    }
   ],
   "source": [
    "# here we demonstrate the algorithm by selecting a the Outlook feature with class of Sunny.  \n",
    "# We create a data frame with only those rows where Outlook is sunny\n",
    "\n",
    "feature_values = train_data_set[train_data_set[\"Outlook\"] == \"Sunny\"]\n",
    "feature_values"
   ]
  },
  {
   "cell_type": "code",
   "execution_count": 12,
   "metadata": {},
   "outputs": [
    {
     "data": {
      "text/plain": [
       "0.9709505944546686"
      ]
     },
     "execution_count": 12,
     "metadata": {},
     "output_type": "execute_result"
    }
   ],
   "source": [
    "#now calculate the entropy of Outlook is Sunny\n",
    "\n",
    "calc_entropy(feature_values, label_string, label_class_list)\n",
    "\n",
    "#this matches the hand calculated value"
   ]
  },
  {
   "cell_type": "code",
   "execution_count": 13,
   "metadata": {},
   "outputs": [
    {
     "data": {
      "text/html": [
       "<div>\n",
       "<style scoped>\n",
       "    .dataframe tbody tr th:only-of-type {\n",
       "        vertical-align: middle;\n",
       "    }\n",
       "\n",
       "    .dataframe tbody tr th {\n",
       "        vertical-align: top;\n",
       "    }\n",
       "\n",
       "    .dataframe thead th {\n",
       "        text-align: right;\n",
       "    }\n",
       "</style>\n",
       "<table border=\"1\" class=\"dataframe\">\n",
       "  <thead>\n",
       "    <tr style=\"text-align: right;\">\n",
       "      <th></th>\n",
       "      <th>Outlook</th>\n",
       "      <th>Temperature</th>\n",
       "      <th>Humidity</th>\n",
       "      <th>Wind</th>\n",
       "      <th>Play Tennis</th>\n",
       "    </tr>\n",
       "  </thead>\n",
       "  <tbody>\n",
       "    <tr>\n",
       "      <th>3</th>\n",
       "      <td>Rain</td>\n",
       "      <td>Mild</td>\n",
       "      <td>High</td>\n",
       "      <td>Weak</td>\n",
       "      <td>Yes</td>\n",
       "    </tr>\n",
       "    <tr>\n",
       "      <th>4</th>\n",
       "      <td>Rain</td>\n",
       "      <td>Cool</td>\n",
       "      <td>Normal</td>\n",
       "      <td>Weak</td>\n",
       "      <td>Yes</td>\n",
       "    </tr>\n",
       "    <tr>\n",
       "      <th>5</th>\n",
       "      <td>Rain</td>\n",
       "      <td>Cool</td>\n",
       "      <td>Normal</td>\n",
       "      <td>Strong</td>\n",
       "      <td>No</td>\n",
       "    </tr>\n",
       "    <tr>\n",
       "      <th>9</th>\n",
       "      <td>Rain</td>\n",
       "      <td>Mild</td>\n",
       "      <td>Normal</td>\n",
       "      <td>Weak</td>\n",
       "      <td>Yes</td>\n",
       "    </tr>\n",
       "    <tr>\n",
       "      <th>13</th>\n",
       "      <td>Rain</td>\n",
       "      <td>Mild</td>\n",
       "      <td>High</td>\n",
       "      <td>Strong</td>\n",
       "      <td>No</td>\n",
       "    </tr>\n",
       "  </tbody>\n",
       "</table>\n",
       "</div>"
      ],
      "text/plain": [
       "   Outlook Temperature Humidity    Wind Play Tennis\n",
       "3     Rain        Mild     High    Weak         Yes\n",
       "4     Rain        Cool   Normal    Weak         Yes\n",
       "5     Rain        Cool   Normal  Strong          No\n",
       "9     Rain        Mild   Normal    Weak         Yes\n",
       "13    Rain        Mild     High  Strong          No"
      ]
     },
     "execution_count": 13,
     "metadata": {},
     "output_type": "execute_result"
    }
   ],
   "source": [
    "# here we demonstrate the algorithm by selecting a the Outlook feature with class of Rain.  \n",
    "# We create a data frame with only those rows where Outlook is sunny\n",
    "\n",
    "feature_values = train_data_set[train_data_set[\"Outlook\"] == \"Rain\"]\n",
    "feature_values"
   ]
  },
  {
   "cell_type": "code",
   "execution_count": 14,
   "metadata": {},
   "outputs": [
    {
     "data": {
      "text/plain": [
       "0.9709505944546686"
      ]
     },
     "execution_count": 14,
     "metadata": {},
     "output_type": "execute_result"
    }
   ],
   "source": [
    "#now calculate the entropy of Outlook is Sunny\n",
    "\n",
    "calc_entropy(feature_values, label_string, label_class_list)\n",
    "\n",
    "#this matches the hand calculated value"
   ]
  },
  {
   "cell_type": "code",
   "execution_count": 15,
   "metadata": {},
   "outputs": [
    {
     "data": {
      "text/html": [
       "<div>\n",
       "<style scoped>\n",
       "    .dataframe tbody tr th:only-of-type {\n",
       "        vertical-align: middle;\n",
       "    }\n",
       "\n",
       "    .dataframe tbody tr th {\n",
       "        vertical-align: top;\n",
       "    }\n",
       "\n",
       "    .dataframe thead th {\n",
       "        text-align: right;\n",
       "    }\n",
       "</style>\n",
       "<table border=\"1\" class=\"dataframe\">\n",
       "  <thead>\n",
       "    <tr style=\"text-align: right;\">\n",
       "      <th></th>\n",
       "      <th>Outlook</th>\n",
       "      <th>Temperature</th>\n",
       "      <th>Humidity</th>\n",
       "      <th>Wind</th>\n",
       "      <th>Play Tennis</th>\n",
       "    </tr>\n",
       "  </thead>\n",
       "  <tbody>\n",
       "    <tr>\n",
       "      <th>2</th>\n",
       "      <td>Overcast</td>\n",
       "      <td>Hot</td>\n",
       "      <td>High</td>\n",
       "      <td>Weak</td>\n",
       "      <td>Yes</td>\n",
       "    </tr>\n",
       "    <tr>\n",
       "      <th>6</th>\n",
       "      <td>Overcast</td>\n",
       "      <td>Cool</td>\n",
       "      <td>Normal</td>\n",
       "      <td>Strong</td>\n",
       "      <td>Yes</td>\n",
       "    </tr>\n",
       "    <tr>\n",
       "      <th>11</th>\n",
       "      <td>Overcast</td>\n",
       "      <td>Mild</td>\n",
       "      <td>High</td>\n",
       "      <td>Strong</td>\n",
       "      <td>Yes</td>\n",
       "    </tr>\n",
       "    <tr>\n",
       "      <th>12</th>\n",
       "      <td>Overcast</td>\n",
       "      <td>Hot</td>\n",
       "      <td>Normal</td>\n",
       "      <td>Weak</td>\n",
       "      <td>Yes</td>\n",
       "    </tr>\n",
       "  </tbody>\n",
       "</table>\n",
       "</div>"
      ],
      "text/plain": [
       "     Outlook Temperature Humidity    Wind Play Tennis\n",
       "2   Overcast         Hot     High    Weak         Yes\n",
       "6   Overcast        Cool   Normal  Strong         Yes\n",
       "11  Overcast        Mild     High  Strong         Yes\n",
       "12  Overcast         Hot   Normal    Weak         Yes"
      ]
     },
     "execution_count": 15,
     "metadata": {},
     "output_type": "execute_result"
    }
   ],
   "source": [
    "# here we demonstrate the algorithm by selecting a the Outlook feature with class of Overcaset.  \n",
    "# We create a data frame with only those rows where Outlook is sunny.\n",
    "\n",
    "feature_values = train_data_set[train_data_set[\"Outlook\"] == \"Overcast\"]\n",
    "feature_values"
   ]
  },
  {
   "cell_type": "code",
   "execution_count": 16,
   "metadata": {},
   "outputs": [
    {
     "data": {
      "text/plain": [
       "0.0"
      ]
     },
     "execution_count": 16,
     "metadata": {},
     "output_type": "execute_result"
    }
   ],
   "source": [
    "#now calculate the entropy of Outlook is Sunny\n",
    "\n",
    "calc_entropy(feature_values, label_string, label_class_list)\n",
    "\n",
    "#this matches the hand calculated value\n",
    "#here we note that this has entropy of 0 because all of the lable output values are of one value.  Here 'Yes'"
   ]
  },
  {
   "cell_type": "code",
   "execution_count": 17,
   "metadata": {},
   "outputs": [],
   "source": [
    "# next we need to calcualte the information gain that each feature provides\n",
    "\n",
    "def calc_info_gain(feature_name, df, label, class_list):\n",
    "\n",
    "    \"\"\"\n",
    "        IG(Y,X) = E(Y) - E(Y|X)\n",
    "\n",
    "        Parameters:\n",
    "            feature_name (string): the name of the feature column that we want to find it’s information gain\n",
    "            df (DataFrame): a pandas dataframe/dataset\n",
    "            label (string): name of the label of the dataframe (=Play Tennis)\n",
    "            class_list (list): unique classes of the label (=[Yes, No]).\n",
    "        \n",
    "        Returns:\n",
    "        (float): calculated information gain of the feature (Ex. for Outlook, returns 0.247)\n",
    "    \"\"\"\n",
    "\n",
    "    feature_value_list = df[feature_name].unique() #unqiue values of the feature\n",
    "    total_row = df.shape[0]  #determine number of rows\n",
    "    feature_info = 0.0 #set information gain to zero to start sumamtion\n",
    "    \n",
    "    for feature_value in feature_value_list:  #iterate over each feature value\n",
    "        feature_value_data = df[df[feature_name] == feature_value] #filtering rows with that feature_value\n",
    "        feature_value_count = feature_value_data.shape[0]\n",
    "        feature_value_entropy = calc_entropy(feature_value_data, label, class_list) #calculcating entropy for the feature value\n",
    "        feature_value_probability = feature_value_count/total_row\n",
    "        feature_info += feature_value_probability * feature_value_entropy #calculating information of the feature value\n",
    "        \n",
    "    info_gain = calc_total_entropy(df, label, class_list) - feature_info #calculating information gain by subtracting from total\n",
    "    return info_gain"
   ]
  },
  {
   "cell_type": "code",
   "execution_count": 18,
   "metadata": {},
   "outputs": [
    {
     "data": {
      "text/plain": [
       "0.24674981977443933"
      ]
     },
     "execution_count": 18,
     "metadata": {},
     "output_type": "execute_result"
    }
   ],
   "source": [
    "# now calcluate the information gain for Outlook\n",
    "\n",
    "calc_info_gain(\"Outlook\", train_data_set, label_string, label_class_list)\n",
    "\n",
    "# we see this agrees with the hand calculation"
   ]
  },
  {
   "cell_type": "code",
   "execution_count": 19,
   "metadata": {},
   "outputs": [
    {
     "data": {
      "text/plain": [
       "0.15183550136234159"
      ]
     },
     "execution_count": 19,
     "metadata": {},
     "output_type": "execute_result"
    }
   ],
   "source": [
    "# now calcluate the information gain for Humidity\n",
    "\n",
    "calc_info_gain(\"Humidity\", train_data_set, label_string, label_class_list)\n",
    "\n",
    "#we see this agrees with the hand calculation"
   ]
  },
  {
   "cell_type": "code",
   "execution_count": 20,
   "metadata": {},
   "outputs": [
    {
     "data": {
      "text/plain": [
       "0.02922256565895487"
      ]
     },
     "execution_count": 20,
     "metadata": {},
     "output_type": "execute_result"
    }
   ],
   "source": [
    "#now calcluate the information gain for Temperature\n",
    "\n",
    "calc_info_gain(\"Temperature\", train_data_set, label_string, label_class_list)\n",
    "\n",
    "#we see this agrees with the hand calculation"
   ]
  },
  {
   "cell_type": "code",
   "execution_count": 21,
   "metadata": {},
   "outputs": [
    {
     "data": {
      "text/plain": [
       "0.04812703040826949"
      ]
     },
     "execution_count": 21,
     "metadata": {},
     "output_type": "execute_result"
    }
   ],
   "source": [
    "#now calcluate the information gain for Wind\n",
    "\n",
    "calc_info_gain(\"Wind\", train_data_set, label_string, label_class_list)\n",
    "\n",
    "#we see this agrees with the hand calculation"
   ]
  },
  {
   "cell_type": "code",
   "execution_count": 22,
   "metadata": {},
   "outputs": [],
   "source": [
    "# to buld the tree we want the value with the most information gain to be used first.  \n",
    "# from above analysis we know that will be outlook\n",
    "\n",
    "def find_most_informative_feature(df, label, class_list):\n",
    "\n",
    "    \"\"\"\n",
    "        systematically finds the feature in the data set with highest information gain\n",
    "\n",
    "        Parameters:\n",
    "            df (DataFrame): a pandas dataframe/dataset\n",
    "            label (string): name of the label of the dataframe (=Play Tennis)\n",
    "            class_list (list): unique classes of the label (=[Yes, No]).\n",
    "\n",
    "        Returns:\n",
    "            (string): the feature name\n",
    "    \"\"\"\n",
    "\n",
    "    feature_list = df.columns.drop(label) #label is not a feature, so dropping it so we can iterate over all columns\n",
    "    #finding the feature names in the dataset;\n",
    "    max_info_gain = -1\n",
    "    max_info_feature = None\n",
    "    \n",
    "    for feature in feature_list:  #for each feature in the dataset\n",
    "        feature_info_gain = calc_info_gain(feature, df, label, class_list)\n",
    "        print('Feature:', feature, '  Info Gain:',  feature_info_gain) #print for demonstration each iteration on feature\n",
    "        if max_info_gain < feature_info_gain: #selecting feature name with highest information gain\n",
    "            max_info_gain = feature_info_gain\n",
    "            max_info_feature = feature\n",
    "            \n",
    "    return max_info_feature, max_info_gain"
   ]
  },
  {
   "cell_type": "code",
   "execution_count": 23,
   "metadata": {},
   "outputs": [
    {
     "name": "stdout",
     "output_type": "stream",
     "text": [
      "Feature: Outlook   Info Gain: 0.24674981977443933\n",
      "Feature: Temperature   Info Gain: 0.02922256565895487\n",
      "Feature: Humidity   Info Gain: 0.15183550136234159\n",
      "Feature: Wind   Info Gain: 0.04812703040826949\n",
      "Most Info Gain Result:   Outlook  -  0.24674981977443933\n"
     ]
    }
   ],
   "source": [
    "# here we demonstrate the fuction working to find the most information gain\n",
    "# we see each iteration produces that features info gain\n",
    "# finally we get the max info gain and the feature\n",
    "\n",
    "most_info_feature, most_info_gain = find_most_informative_feature(train_data_set, label_string, label_class_list)\n",
    "print('Most Info Gain Result:  ', most_info_feature, ' - ', most_info_gain)"
   ]
  },
  {
   "cell_type": "code",
   "execution_count": 24,
   "metadata": {},
   "outputs": [],
   "source": [
    "# now we will create the trees\n",
    "# first we will create sub trees given the information gain\n",
    "\n",
    "def generate_sub_tree(feature_name, max_info_gain, df, label, class_list):\n",
    "\n",
    "    \"\"\"\n",
    "        Parameters:\n",
    "            feature_name (string): the name of the feature that we want to add to tree and shrink dataset (Ex. Outlook)\n",
    "            df (DataFrame): a pandas dataframe/dataset\n",
    "            label (string): name of the label of the dataframe (=Play Tennis)\n",
    "            class_list (list): unique classes of the label (=[Yes, No]).\n",
    "            \n",
    "        Returns:\n",
    "            (dictionary, dataframe): the tree node with it's branches and the updated dataset\n",
    "    \"\"\"\n",
    "\n",
    "    feature_value_count_dict = df[feature_name].value_counts(sort=False) #dictionary of the count of unqiue feature value\n",
    "    tree = {} #sub tree or node\n",
    "    \n",
    "    for feature_value, count in feature_value_count_dict.iteritems():\n",
    "        feature_value_data = df[df[feature_name] == feature_value] #dataset with only feature_name = feature_value\n",
    "        \n",
    "        assigned_to_node = False #flag for tracking feature_value is pure class or not\n",
    "        for c in class_list: #for each class\n",
    "            class_count = feature_value_data[feature_value_data[label] == c].shape[0] #count of class c\n",
    "\n",
    "            if class_count == count: #count of feature_value = count of class (pure class)\n",
    "                tree[feature_value] = c #adding node to the tree\n",
    "                df = df[df[feature_name] != feature_value] #removing rows with feature_value\n",
    "                assigned_to_node = True\n",
    "        if not assigned_to_node: #not pure class\n",
    "            tree[feature_value] = \"?\" #should extend the node, so the branch is marked with ?\n",
    "            \n",
    "    return tree, df"
   ]
  },
  {
   "cell_type": "code",
   "execution_count": 25,
   "metadata": {},
   "outputs": [],
   "source": [
    "#now to demonstrate we will pass in from the previous step the most information gain feature.  This happend to be Outlook\n",
    "root, train_data_sub = generate_sub_tree(most_info_feature, most_info_gain, train_data_set, label_string, label_class_list)"
   ]
  },
  {
   "cell_type": "code",
   "execution_count": 26,
   "metadata": {},
   "outputs": [
    {
     "data": {
      "text/plain": [
       "{'Sunny': '?', 'Overcast': 'Yes', 'Rain': '?'}"
      ]
     },
     "execution_count": 26,
     "metadata": {},
     "output_type": "execute_result"
    }
   ],
   "source": [
    "#as we examine the returned tree we see that it shows outlook.  T\n",
    "#we know that Overcast appears to allways be a Yes\n",
    "#for Sunny and Rain we need more features to better predict the label so those branches \n",
    "#have a ? for further building of the tree\n",
    "root"
   ]
  },
  {
   "cell_type": "code",
   "execution_count": 27,
   "metadata": {},
   "outputs": [
    {
     "data": {
      "text/html": [
       "<div>\n",
       "<style scoped>\n",
       "    .dataframe tbody tr th:only-of-type {\n",
       "        vertical-align: middle;\n",
       "    }\n",
       "\n",
       "    .dataframe tbody tr th {\n",
       "        vertical-align: top;\n",
       "    }\n",
       "\n",
       "    .dataframe thead th {\n",
       "        text-align: right;\n",
       "    }\n",
       "</style>\n",
       "<table border=\"1\" class=\"dataframe\">\n",
       "  <thead>\n",
       "    <tr style=\"text-align: right;\">\n",
       "      <th></th>\n",
       "      <th>Outlook</th>\n",
       "      <th>Temperature</th>\n",
       "      <th>Humidity</th>\n",
       "      <th>Wind</th>\n",
       "      <th>Play Tennis</th>\n",
       "    </tr>\n",
       "  </thead>\n",
       "  <tbody>\n",
       "    <tr>\n",
       "      <th>0</th>\n",
       "      <td>Sunny</td>\n",
       "      <td>Hot</td>\n",
       "      <td>High</td>\n",
       "      <td>Weak</td>\n",
       "      <td>No</td>\n",
       "    </tr>\n",
       "    <tr>\n",
       "      <th>1</th>\n",
       "      <td>Sunny</td>\n",
       "      <td>Hot</td>\n",
       "      <td>High</td>\n",
       "      <td>Strong</td>\n",
       "      <td>No</td>\n",
       "    </tr>\n",
       "    <tr>\n",
       "      <th>3</th>\n",
       "      <td>Rain</td>\n",
       "      <td>Mild</td>\n",
       "      <td>High</td>\n",
       "      <td>Weak</td>\n",
       "      <td>Yes</td>\n",
       "    </tr>\n",
       "    <tr>\n",
       "      <th>4</th>\n",
       "      <td>Rain</td>\n",
       "      <td>Cool</td>\n",
       "      <td>Normal</td>\n",
       "      <td>Weak</td>\n",
       "      <td>Yes</td>\n",
       "    </tr>\n",
       "    <tr>\n",
       "      <th>5</th>\n",
       "      <td>Rain</td>\n",
       "      <td>Cool</td>\n",
       "      <td>Normal</td>\n",
       "      <td>Strong</td>\n",
       "      <td>No</td>\n",
       "    </tr>\n",
       "    <tr>\n",
       "      <th>7</th>\n",
       "      <td>Sunny</td>\n",
       "      <td>Mild</td>\n",
       "      <td>High</td>\n",
       "      <td>Weak</td>\n",
       "      <td>No</td>\n",
       "    </tr>\n",
       "    <tr>\n",
       "      <th>8</th>\n",
       "      <td>Sunny</td>\n",
       "      <td>Cool</td>\n",
       "      <td>Normal</td>\n",
       "      <td>Weak</td>\n",
       "      <td>Yes</td>\n",
       "    </tr>\n",
       "    <tr>\n",
       "      <th>9</th>\n",
       "      <td>Rain</td>\n",
       "      <td>Mild</td>\n",
       "      <td>Normal</td>\n",
       "      <td>Weak</td>\n",
       "      <td>Yes</td>\n",
       "    </tr>\n",
       "    <tr>\n",
       "      <th>10</th>\n",
       "      <td>Sunny</td>\n",
       "      <td>Mild</td>\n",
       "      <td>Normal</td>\n",
       "      <td>Strong</td>\n",
       "      <td>Yes</td>\n",
       "    </tr>\n",
       "    <tr>\n",
       "      <th>13</th>\n",
       "      <td>Rain</td>\n",
       "      <td>Mild</td>\n",
       "      <td>High</td>\n",
       "      <td>Strong</td>\n",
       "      <td>No</td>\n",
       "    </tr>\n",
       "  </tbody>\n",
       "</table>\n",
       "</div>"
      ],
      "text/plain": [
       "   Outlook Temperature Humidity    Wind Play Tennis\n",
       "0    Sunny         Hot     High    Weak          No\n",
       "1    Sunny         Hot     High  Strong          No\n",
       "3     Rain        Mild     High    Weak         Yes\n",
       "4     Rain        Cool   Normal    Weak         Yes\n",
       "5     Rain        Cool   Normal  Strong          No\n",
       "7    Sunny        Mild     High    Weak          No\n",
       "8    Sunny        Cool   Normal    Weak         Yes\n",
       "9     Rain        Mild   Normal    Weak         Yes\n",
       "10   Sunny        Mild   Normal  Strong         Yes\n",
       "13    Rain        Mild     High  Strong          No"
      ]
     },
     "execution_count": 27,
     "metadata": {},
     "output_type": "execute_result"
    }
   ],
   "source": [
    "#we also return a subset of the data without the Feature used in the tree.  In this case it is Outlook.\n",
    "#We do this as we will need to iterate with the next feature that provide the most information gain.\n",
    "train_data_sub"
   ]
  },
  {
   "cell_type": "raw",
   "metadata": {},
   "source": [
    "# Finding the most informative feature\n",
    "Making a tree node with a feature name and feature values as branches\n",
    "- If pure class, adding leaf node (= Class) to the tree node\n",
    "- If impure class, adding an expandable node (= ‘?’) to the tree node\n",
    "Shrinking/Updating the dataset according to the pure class\n",
    "Adding the node with branches into a tree\n",
    "Expand the branch of the next impure class (= ‘?’) with an updated dataset\n",
    "The recursion endpoint:\n",
    "The dataset becomes empty after updating\n",
    "There is no expandable branch (= all pure class)\n",
    "Method description:\n",
    "root: dictionary, the current pointed node/feature of the tree. It is contineously being updated.\n",
    "prev_feature_value: Any datatype (Int or Float or String etc.) depending on the datatype of the previous feature, the previous value of the pointed node/feature\n",
    "df: a pandas dataframe/dataset\n",
    "label: string, name of the label of the dataframe (=Play Tennis)\n",
    "class_list: list, unique classes of the label (=[Yes, No]).\n",
    "returns: None"
   ]
  },
  {
   "cell_type": "code",
   "execution_count": 28,
   "metadata": {},
   "outputs": [],
   "source": [
    "def make_tree(root, prev_feature_value, df, label, class_list):\n",
    "    if df.shape[0] != 0: #if dataset becomes enpty after updating\n",
    "        max_info_feature, max_info_gain = find_most_informative_feature(df, label, class_list) #most informative feature\n",
    "        print('Max Info Feature:',max_info_feature)\n",
    "        print('Max Info Gain:',max_info_gain)\n",
    "        tree, df = generate_sub_tree(max_info_feature, max_info_gain, df, label, class_list) #getting tree node and updated dataset\n",
    "        next_root = None\n",
    "        \n",
    "        if prev_feature_value != None: #add to intermediate node of the tree\n",
    "            root[prev_feature_value] = dict()\n",
    "            root[prev_feature_value][max_info_feature] = tree\n",
    "            next_root = root[prev_feature_value][max_info_feature]\n",
    "        else: #add to root of the tree\n",
    "            root[max_info_feature] = tree\n",
    "            next_root = root[max_info_feature]\n",
    "        \n",
    "        for node, branch in list(next_root.items()): #iterating the tree node\n",
    "            if branch == \"?\": #if it is expandable\n",
    "                feature_value_data = df[df[max_info_feature] == node] #using the updated dataset\n",
    "                make_tree(next_root, node, feature_value_data, label, class_list) #recursive call with updated dataset"
   ]
  },
  {
   "cell_type": "code",
   "execution_count": 29,
   "metadata": {},
   "outputs": [
    {
     "name": "stdout",
     "output_type": "stream",
     "text": [
      "Feature: Outlook   Info Gain: 0.24674981977443933\n",
      "Feature: Temperature   Info Gain: 0.02922256565895487\n",
      "Feature: Humidity   Info Gain: 0.15183550136234159\n",
      "Feature: Wind   Info Gain: 0.04812703040826949\n",
      "Max Info Feature: Outlook\n",
      "Max Info Gain: 0.24674981977443933\n",
      "Feature: Outlook   Info Gain: 0.0\n",
      "Feature: Temperature   Info Gain: 0.5709505944546686\n",
      "Feature: Humidity   Info Gain: 0.9709505944546686\n",
      "Feature: Wind   Info Gain: 0.01997309402197489\n",
      "Max Info Feature: Humidity\n",
      "Max Info Gain: 0.9709505944546686\n",
      "Feature: Outlook   Info Gain: 0.0\n",
      "Feature: Temperature   Info Gain: 0.01997309402197489\n",
      "Feature: Humidity   Info Gain: 0.01997309402197489\n",
      "Feature: Wind   Info Gain: 0.9709505944546686\n",
      "Max Info Feature: Wind\n",
      "Max Info Gain: 0.9709505944546686\n"
     ]
    }
   ],
   "source": [
    "#now we create our tree.\n",
    "#we see each iteration as it looks at the information gain of the remaining features \n",
    "#to select the next feature to use\n",
    "root={}\n",
    "make_tree(root,None,train_data_set, label_string, label_class_list)"
   ]
  },
  {
   "cell_type": "code",
   "execution_count": 30,
   "metadata": {},
   "outputs": [
    {
     "data": {
      "text/plain": [
       "{'Outlook': {'Sunny': {'Humidity': {'High': 'No', 'Normal': 'Yes'}},\n",
       "  'Overcast': 'Yes',\n",
       "  'Rain': {'Wind': {'Weak': 'Yes', 'Strong': 'No'}}}}"
      ]
     },
     "execution_count": 30,
     "metadata": {},
     "output_type": "execute_result"
    }
   ],
   "source": [
    "root"
   ]
  },
  {
   "cell_type": "code",
   "execution_count": 31,
   "metadata": {},
   "outputs": [],
   "source": [
    "#now we can construct our id3 algorithm function\n",
    "\n",
    "#df: a pandas dataframe/dataset\n",
    "#label: string, name of the label of the dataframe (=Play Tennis)\n",
    "#returns: (nested) dictionary, the decision tree\n",
    "def id3(df, label):\n",
    "    df_copy = df.copy() #getting a copy of the dataset\n",
    "    tree = {} #tree which will be updated is set empty to start\n",
    "    class_list = df_copy[label].unique() #getting unqiue classes of the label\n",
    "    make_tree(tree, None, df, label, class_list) #start calling recursion\n",
    "    return tree"
   ]
  },
  {
   "cell_type": "code",
   "execution_count": 32,
   "metadata": {},
   "outputs": [
    {
     "name": "stdout",
     "output_type": "stream",
     "text": [
      "Feature: Outlook   Info Gain: 0.24674981977443933\n",
      "Feature: Temperature   Info Gain: 0.02922256565895487\n",
      "Feature: Humidity   Info Gain: 0.15183550136234159\n",
      "Feature: Wind   Info Gain: 0.04812703040826949\n",
      "Max Info Feature: Outlook\n",
      "Max Info Gain: 0.24674981977443933\n",
      "Feature: Outlook   Info Gain: 0.0\n",
      "Feature: Temperature   Info Gain: 0.5709505944546686\n",
      "Feature: Humidity   Info Gain: 0.9709505944546686\n",
      "Feature: Wind   Info Gain: 0.01997309402197489\n",
      "Max Info Feature: Humidity\n",
      "Max Info Gain: 0.9709505944546686\n",
      "Feature: Outlook   Info Gain: 0.0\n",
      "Feature: Temperature   Info Gain: 0.01997309402197489\n",
      "Feature: Humidity   Info Gain: 0.01997309402197489\n",
      "Feature: Wind   Info Gain: 0.9709505944546686\n",
      "Max Info Feature: Wind\n",
      "Max Info Gain: 0.9709505944546686\n"
     ]
    }
   ],
   "source": [
    "tree = id3(train_data_set,\"Play Tennis\")"
   ]
  },
  {
   "cell_type": "code",
   "execution_count": 33,
   "metadata": {},
   "outputs": [],
   "source": [
    "# here is the construct full tree"
   ]
  },
  {
   "cell_type": "code",
   "execution_count": 34,
   "metadata": {},
   "outputs": [],
   "source": [
    "#tree: (nested) dictionary, a decision tree\n",
    "#instance: series/dataframe row, a row of dataset. The row may not contain label.\n",
    "#returns: Any datatype (Int or Float or String etc.) depending on the datatype of the class, the predicted classs\n",
    "\n",
    "def predict(tree, instance):\n",
    "    if not isinstance(tree, dict): #if it is leaf node\n",
    "        return tree #return the value\n",
    "    else:\n",
    "        root_node = next(iter(tree)) #getting first key/feature name of the dictionary\n",
    "        feature_value = instance[root_node] #value of the feature\n",
    "        if feature_value in tree[root_node]: #checking the feature value in current tree node\n",
    "            return predict(tree[root_node][feature_value], instance) #goto next feature\n",
    "        else:\n",
    "            return None"
   ]
  },
  {
   "cell_type": "code",
   "execution_count": 35,
   "metadata": {},
   "outputs": [],
   "source": [
    "#To evaluate the model i.e. the tree we need a labeled test dataset. Then after predicting we can calculate the difference of actual and predicted value in percentage.\n",
    "#tree: (nested) dictionary, a decision tree\n",
    "#test_data_m: a pandas dataframe/test dataset\n",
    "#returns: float, the accuray of the tree\n",
    "\n",
    "def evaluate(tree, test_data_m, label):\n",
    "    correct_preditct = 0\n",
    "    wrong_preditct = 0\n",
    "    for index, row in test_data_m.iterrows(): #for each row in the dataset\n",
    "        result = predict(tree, test_data_m.iloc[index]) #predict the row\n",
    "        if result == test_data_m[label].iloc[index]: #predicted value and expected value is same or not\n",
    "            correct_preditct += 1 #increase correct count\n",
    "        else:\n",
    "            wrong_preditct += 1 #increase incorrect count\n",
    "    accuracy = correct_preditct / (correct_preditct + wrong_preditct) #calculating accuracy\n",
    "    return accuracy"
   ]
  },
  {
   "cell_type": "code",
   "execution_count": 36,
   "metadata": {},
   "outputs": [
    {
     "data": {
      "text/html": [
       "<div>\n",
       "<style scoped>\n",
       "    .dataframe tbody tr th:only-of-type {\n",
       "        vertical-align: middle;\n",
       "    }\n",
       "\n",
       "    .dataframe tbody tr th {\n",
       "        vertical-align: top;\n",
       "    }\n",
       "\n",
       "    .dataframe thead th {\n",
       "        text-align: right;\n",
       "    }\n",
       "</style>\n",
       "<table border=\"1\" class=\"dataframe\">\n",
       "  <thead>\n",
       "    <tr style=\"text-align: right;\">\n",
       "      <th></th>\n",
       "      <th>Outlook</th>\n",
       "      <th>Temperature</th>\n",
       "      <th>Humidity</th>\n",
       "      <th>Wind</th>\n",
       "      <th>Play Tennis</th>\n",
       "    </tr>\n",
       "  </thead>\n",
       "  <tbody>\n",
       "    <tr>\n",
       "      <th>0</th>\n",
       "      <td>Overcast</td>\n",
       "      <td>Mild</td>\n",
       "      <td>Normal</td>\n",
       "      <td>Weak</td>\n",
       "      <td>Yes</td>\n",
       "    </tr>\n",
       "    <tr>\n",
       "      <th>1</th>\n",
       "      <td>Sunny</td>\n",
       "      <td>Mild</td>\n",
       "      <td>Normal</td>\n",
       "      <td>Weak</td>\n",
       "      <td>Yes</td>\n",
       "    </tr>\n",
       "    <tr>\n",
       "      <th>2</th>\n",
       "      <td>Rain</td>\n",
       "      <td>Mild</td>\n",
       "      <td>Normal</td>\n",
       "      <td>Weak</td>\n",
       "      <td>Yes</td>\n",
       "    </tr>\n",
       "    <tr>\n",
       "      <th>3</th>\n",
       "      <td>Rain</td>\n",
       "      <td>Cool</td>\n",
       "      <td>High</td>\n",
       "      <td>Strong</td>\n",
       "      <td>No</td>\n",
       "    </tr>\n",
       "  </tbody>\n",
       "</table>\n",
       "</div>"
      ],
      "text/plain": [
       "    Outlook Temperature Humidity    Wind Play Tennis\n",
       "0  Overcast        Mild   Normal    Weak         Yes\n",
       "1     Sunny        Mild   Normal    Weak         Yes\n",
       "2      Rain        Mild   Normal    Weak         Yes\n",
       "3      Rain        Cool     High  Strong          No"
      ]
     },
     "execution_count": 36,
     "metadata": {},
     "output_type": "execute_result"
    }
   ],
   "source": [
    "test_data_m = pd.read_csv(\"TestPlayTennis.csv\") #importing the dataset from the disk\n",
    "test_data_m.head()"
   ]
  },
  {
   "cell_type": "code",
   "execution_count": 37,
   "metadata": {},
   "outputs": [
    {
     "data": {
      "text/plain": [
       "1.0"
      ]
     },
     "execution_count": 37,
     "metadata": {},
     "output_type": "execute_result"
    }
   ],
   "source": [
    "evaluate(tree, test_data_m, 'Play Tennis') #evaluating the test dataset"
   ]
  },
  {
   "cell_type": "code",
   "execution_count": 38,
   "metadata": {},
   "outputs": [
    {
     "data": {
      "text/plain": [
       "Outlook          Rain\n",
       "Temperature      Cool\n",
       "Humidity         High\n",
       "Wind           Strong\n",
       "Play Tennis        No\n",
       "Name: 3, dtype: object"
      ]
     },
     "execution_count": 38,
     "metadata": {},
     "output_type": "execute_result"
    }
   ],
   "source": [
    "test_row = test_data_m.iloc[3]\n",
    "test_row"
   ]
  },
  {
   "cell_type": "code",
   "execution_count": 39,
   "metadata": {},
   "outputs": [
    {
     "data": {
      "text/plain": [
       "'No'"
      ]
     },
     "execution_count": 39,
     "metadata": {},
     "output_type": "execute_result"
    }
   ],
   "source": [
    "predict(tree,test_row)"
   ]
  }
 ],
 "metadata": {
  "kernelspec": {
   "display_name": "Python 3",
   "language": "python",
   "name": "python3"
  },
  "language_info": {
   "codemirror_mode": {
    "name": "ipython",
    "version": 3
   },
   "file_extension": ".py",
   "mimetype": "text/x-python",
   "name": "python",
   "nbconvert_exporter": "python",
   "pygments_lexer": "ipython3",
   "version": "3.8.10"
  }
 },
 "nbformat": 4,
 "nbformat_minor": 4
}
